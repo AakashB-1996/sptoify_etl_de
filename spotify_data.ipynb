{
 "cells": [
  {
   "cell_type": "code",
   "execution_count": 1,
   "metadata": {},
   "outputs": [
    {
     "name": "stdout",
     "output_type": "stream",
     "text": [
      "Collecting spotipy\n",
      "  Downloading spotipy-2.25.0-py3-none-any.whl.metadata (4.7 kB)\n",
      "Collecting redis>=3.5.3 (from spotipy)\n",
      "  Downloading redis-5.2.1-py3-none-any.whl.metadata (9.1 kB)\n",
      "Requirement already satisfied: requests>=2.25.0 in /Applications/anaconda3/lib/python3.12/site-packages (from spotipy) (2.32.2)\n",
      "Requirement already satisfied: urllib3>=1.26.0 in /Applications/anaconda3/lib/python3.12/site-packages (from spotipy) (2.2.2)\n",
      "Requirement already satisfied: charset-normalizer<4,>=2 in /Applications/anaconda3/lib/python3.12/site-packages (from requests>=2.25.0->spotipy) (2.0.4)\n",
      "Requirement already satisfied: idna<4,>=2.5 in /Applications/anaconda3/lib/python3.12/site-packages (from requests>=2.25.0->spotipy) (3.7)\n",
      "Requirement already satisfied: certifi>=2017.4.17 in /Applications/anaconda3/lib/python3.12/site-packages (from requests>=2.25.0->spotipy) (2024.6.2)\n",
      "Downloading spotipy-2.25.0-py3-none-any.whl (30 kB)\n",
      "Downloading redis-5.2.1-py3-none-any.whl (261 kB)\n",
      "\u001b[2K   \u001b[90m━━━━━━━━━━━━━━━━━━━━━━━━━━━━━━━━━━━━━━━━\u001b[0m \u001b[32m261.5/261.5 kB\u001b[0m \u001b[31m3.6 MB/s\u001b[0m eta \u001b[36m0:00:00\u001b[0ma \u001b[36m0:00:01\u001b[0m\n",
      "\u001b[?25hInstalling collected packages: redis, spotipy\n",
      "Successfully installed redis-5.2.1 spotipy-2.25.0\n",
      "Note: you may need to restart the kernel to use updated packages.\n"
     ]
    }
   ],
   "source": [
    "pip install spotipy"
   ]
  },
  {
   "cell_type": "code",
   "execution_count": 52,
   "metadata": {},
   "outputs": [],
   "source": [
    "import spotipy\n",
    "from spotipy.oauth2 import SpotifyClientCredentials\n",
    "import pandas as pd\n"
   ]
  },
  {
   "cell_type": "code",
   "execution_count": 9,
   "metadata": {},
   "outputs": [],
   "source": [
    "client_credential_manager = SpotifyClientCredentials(client_id='f4a0075ad92a4a54b6101f50fde8f234',\n",
    "                                                      client_secret='b08373f970c74ec9b88d607bd9da5fa8')"
   ]
  },
  {
   "cell_type": "code",
   "execution_count": 10,
   "metadata": {},
   "outputs": [],
   "source": [
    "sp = spotipy.Spotify(client_credentials_manager=client_credential_manager)"
   ]
  },
  {
   "cell_type": "code",
   "execution_count": 20,
   "metadata": {},
   "outputs": [],
   "source": [
    "ruthletes_link = \"https://open.spotify.com/playlist/4mPc6hwGfLZ67ohGEK4YMZ\""
   ]
  },
  {
   "cell_type": "code",
   "execution_count": 21,
   "metadata": {},
   "outputs": [],
   "source": [
    "playlist_ruthletes_uri = ruthletes_link.split(\"/\")[-1]"
   ]
  },
  {
   "cell_type": "code",
   "execution_count": 24,
   "metadata": {},
   "outputs": [],
   "source": [
    "##Extracting Data from the playlist\n",
    "data = sp.playlist_tracks(playlist_ruthletes_uri)"
   ]
  },
  {
   "cell_type": "code",
   "execution_count": 31,
   "metadata": {},
   "outputs": [
    {
     "data": {
      "text/plain": [
       "'6deiaArbeoqp1xPEGdEKp1'"
      ]
     },
     "execution_count": 31,
     "metadata": {},
     "output_type": "execute_result"
    }
   ],
   "source": [
    "data['items'][0]['track']['album']['id']"
   ]
  },
  {
   "cell_type": "code",
   "execution_count": 32,
   "metadata": {},
   "outputs": [
    {
     "data": {
      "text/plain": [
       "'By the Way (Deluxe Edition)'"
      ]
     },
     "execution_count": 32,
     "metadata": {},
     "output_type": "execute_result"
    }
   ],
   "source": [
    "data['items'][0]['track']['album']['name']"
   ]
  },
  {
   "cell_type": "code",
   "execution_count": 33,
   "metadata": {},
   "outputs": [
    {
     "data": {
      "text/plain": [
       "18"
      ]
     },
     "execution_count": 33,
     "metadata": {},
     "output_type": "execute_result"
    }
   ],
   "source": [
    "data['items'][0]['track']['album']['total_tracks']"
   ]
  },
  {
   "cell_type": "code",
   "execution_count": 34,
   "metadata": {},
   "outputs": [
    {
     "data": {
      "text/plain": [
       "'https://open.spotify.com/album/6deiaArbeoqp1xPEGdEKp1'"
      ]
     },
     "execution_count": 34,
     "metadata": {},
     "output_type": "execute_result"
    }
   ],
   "source": [
    "data['items'][0]['track']['album']['external_urls']['spotify']"
   ]
  },
  {
   "cell_type": "code",
   "execution_count": 44,
   "metadata": {},
   "outputs": [
    {
     "data": {
      "text/plain": [
       "'Red Hot Chili Peppers'"
      ]
     },
     "execution_count": 44,
     "metadata": {},
     "output_type": "execute_result"
    }
   ],
   "source": [
    "data['items'][0]['track']['album']['artists'][0]['name']\n"
   ]
  },
  {
   "cell_type": "code",
   "execution_count": 47,
   "metadata": {},
   "outputs": [],
   "source": [
    "ruthletes_list = []\n",
    "for row in data['items']:\n",
    "    album_id = row['track']['album']['id']\n",
    "    album_name = row['track']['album']['name']\n",
    "    album_release_date = row['track']['album']['release_date']\n",
    "    album_total_tracks = row['track']['album']['total_tracks']\n",
    "    album_url = row['track']['album']['external_urls']['spotify']\n",
    "    album_element = {'album_id':album_id,'name':album_name,\n",
    "                     'release_date':album_release_date,\n",
    "                        'total_tracks':album_total_tracks,'url':album_url} ## dictinory with all the keys I am interested in\n",
    "    ruthletes_list.append(album_element)"
   ]
  },
  {
   "cell_type": "code",
   "execution_count": 48,
   "metadata": {},
   "outputs": [
    {
     "data": {
      "text/plain": [
       "{'album_id': '6deiaArbeoqp1xPEGdEKp1',\n",
       " 'name': 'By the Way (Deluxe Edition)',\n",
       " 'release_date': '2002-07-09',\n",
       " 'total_tracks': 18,\n",
       " 'url': 'https://open.spotify.com/album/6deiaArbeoqp1xPEGdEKp1'}"
      ]
     },
     "execution_count": 48,
     "metadata": {},
     "output_type": "execute_result"
    }
   ],
   "source": [
    "ruthletes_list[0]"
   ]
  },
  {
   "cell_type": "code",
   "execution_count": 49,
   "metadata": {},
   "outputs": [],
   "source": [
    "ruthletes_artists_list = []\n",
    "for row in data['items']:\n",
    "    for key, value in row.items():\n",
    "        if key == \"track\":\n",
    "            for artist in value['artists']:\n",
    "                artist_dict = {'artist_id':artist['id'], 'artist_name':artist['name'], 'external_url': artist['href']}\n",
    "                ruthletes_artists_list.append(artist_dict) "
   ]
  },
  {
   "cell_type": "code",
   "execution_count": 50,
   "metadata": {},
   "outputs": [
    {
     "data": {
      "text/plain": [
       "[{'artist_id': '0L8ExT028jH3ddEcZwqJJ5',\n",
       "  'artist_name': 'Red Hot Chili Peppers',\n",
       "  'external_url': 'https://api.spotify.com/v1/artists/0L8ExT028jH3ddEcZwqJJ5'},\n",
       " {'artist_id': '4lxfqrEsLX6N1N4OCSkILp',\n",
       "  'artist_name': 'Phil Collins',\n",
       "  'external_url': 'https://api.spotify.com/v1/artists/4lxfqrEsLX6N1N4OCSkILp'},\n",
       " {'artist_id': '4LLpKhyESsyAXpc4laK94U',\n",
       "  'artist_name': 'Mac Miller',\n",
       "  'external_url': 'https://api.spotify.com/v1/artists/4LLpKhyESsyAXpc4laK94U'},\n",
       " {'artist_id': '4yvcSjfu4PC0CYQyLy4wSq',\n",
       "  'artist_name': 'Glass Animals',\n",
       "  'external_url': 'https://api.spotify.com/v1/artists/4yvcSjfu4PC0CYQyLy4wSq'},\n",
       " {'artist_id': '0QWrMNukfcVOmgEU0FEDyD',\n",
       "  'artist_name': 'Jacob Collier',\n",
       "  'external_url': 'https://api.spotify.com/v1/artists/0QWrMNukfcVOmgEU0FEDyD'},\n",
       " {'artist_id': '16rCzZOMQX7P8Kmn5YKexI',\n",
       "  'artist_name': 'Mahalia',\n",
       "  'external_url': 'https://api.spotify.com/v1/artists/16rCzZOMQX7P8Kmn5YKexI'},\n",
       " {'artist_id': '7c0XG5cIJTrrAgEC3ULPiq',\n",
       "  'artist_name': 'Ty Dolla $ign',\n",
       "  'external_url': 'https://api.spotify.com/v1/artists/7c0XG5cIJTrrAgEC3ULPiq'},\n",
       " {'artist_id': '7guDJrEfX3qb6FEbdPA5qi',\n",
       "  'artist_name': 'Stevie Wonder',\n",
       "  'external_url': 'https://api.spotify.com/v1/artists/7guDJrEfX3qb6FEbdPA5qi'},\n",
       " {'artist_id': '2aaLAng2L2aWD2FClzwiep',\n",
       "  'artist_name': 'Dream Theater',\n",
       "  'external_url': 'https://api.spotify.com/v1/artists/2aaLAng2L2aWD2FClzwiep'},\n",
       " {'artist_id': '6XyY86QOPPrYVGvF9ch6wz',\n",
       "  'artist_name': 'Linkin Park',\n",
       "  'external_url': 'https://api.spotify.com/v1/artists/6XyY86QOPPrYVGvF9ch6wz'},\n",
       " {'artist_id': '2ye2Wgw4gimLv2eAKyk1NB',\n",
       "  'artist_name': 'Metallica',\n",
       "  'external_url': 'https://api.spotify.com/v1/artists/2ye2Wgw4gimLv2eAKyk1NB'},\n",
       " {'artist_id': '5nGIFgo0shDenQYSE0Sn7c',\n",
       "  'artist_name': 'Evanescence',\n",
       "  'external_url': 'https://api.spotify.com/v1/artists/5nGIFgo0shDenQYSE0Sn7c'},\n",
       " {'artist_id': '246dkjvS1zLTtiykXe5h60',\n",
       "  'artist_name': 'Post Malone',\n",
       "  'external_url': 'https://api.spotify.com/v1/artists/246dkjvS1zLTtiykXe5h60'},\n",
       " {'artist_id': '45eNHdiiabvmbp4erw26rg',\n",
       "  'artist_name': 'ILLENIUM',\n",
       "  'external_url': 'https://api.spotify.com/v1/artists/45eNHdiiabvmbp4erw26rg'},\n",
       " {'artist_id': '50JJSqHUf2RQ9xsHs0KMHg',\n",
       "  'artist_name': 'Jon Bellion',\n",
       "  'external_url': 'https://api.spotify.com/v1/artists/50JJSqHUf2RQ9xsHs0KMHg'},\n",
       " {'artist_id': '3ao3jf5d70Tf4fPh2bnXVl',\n",
       "  'artist_name': 'We The Kings',\n",
       "  'external_url': 'https://api.spotify.com/v1/artists/3ao3jf5d70Tf4fPh2bnXVl'},\n",
       " {'artist_id': '3Ayl7mCk0nScecqOzvNp6s',\n",
       "  'artist_name': 'Jimmy Eat World',\n",
       "  'external_url': 'https://api.spotify.com/v1/artists/3Ayl7mCk0nScecqOzvNp6s'},\n",
       " {'artist_id': '2EYidR98SsS1xtRwavAmW1',\n",
       "  'artist_name': 'Davey Vonbohlen',\n",
       "  'external_url': 'https://api.spotify.com/v1/artists/2EYidR98SsS1xtRwavAmW1'},\n",
       " {'artist_id': '711MCceyCBcFnzjGY4Q7Un',\n",
       "  'artist_name': 'AC/DC',\n",
       "  'external_url': 'https://api.spotify.com/v1/artists/711MCceyCBcFnzjGY4Q7Un'},\n",
       " {'artist_id': '2C2sVVXanbOpymYBMpsi89',\n",
       "  'artist_name': 'The Cab',\n",
       "  'external_url': 'https://api.spotify.com/v1/artists/2C2sVVXanbOpymYBMpsi89'},\n",
       " {'artist_id': '3AQRLZ9PuTAozP28Skbq8V',\n",
       "  'artist_name': 'The Script',\n",
       "  'external_url': 'https://api.spotify.com/v1/artists/3AQRLZ9PuTAozP28Skbq8V'},\n",
       " {'artist_id': '3zxKH0qp3nBCuPZCZT5Vaf',\n",
       "  'artist_name': 'Yellowcard',\n",
       "  'external_url': 'https://api.spotify.com/v1/artists/3zxKH0qp3nBCuPZCZT5Vaf'},\n",
       " {'artist_id': '3TVXtAsR1Inumwj472S9r4',\n",
       "  'artist_name': 'Drake',\n",
       "  'external_url': 'https://api.spotify.com/v1/artists/3TVXtAsR1Inumwj472S9r4'},\n",
       " {'artist_id': '3zxKH0qp3nBCuPZCZT5Vaf',\n",
       "  'artist_name': 'Yellowcard',\n",
       "  'external_url': 'https://api.spotify.com/v1/artists/3zxKH0qp3nBCuPZCZT5Vaf'},\n",
       " {'artist_id': '2feDdbD5araYcm6JhFHHw7',\n",
       "  'artist_name': 'Labrinth',\n",
       "  'external_url': 'https://api.spotify.com/v1/artists/2feDdbD5araYcm6JhFHHw7'},\n",
       " {'artist_id': '6sCbFbEjbYepqswM1vWjjs',\n",
       "  'artist_name': 'Zendaya',\n",
       "  'external_url': 'https://api.spotify.com/v1/artists/6sCbFbEjbYepqswM1vWjjs'},\n",
       " {'artist_id': '0MlOPi3zIDMVrfA9R04Fe3',\n",
       "  'artist_name': 'American Authors',\n",
       "  'external_url': 'https://api.spotify.com/v1/artists/0MlOPi3zIDMVrfA9R04Fe3'},\n",
       " {'artist_id': '3aQeKQSyrW4qWr35idm0cy',\n",
       "  'artist_name': 'T-Pain',\n",
       "  'external_url': 'https://api.spotify.com/v1/artists/3aQeKQSyrW4qWr35idm0cy'},\n",
       " {'artist_id': '7GaxyUddsPok8BuhxN6OUW',\n",
       "  'artist_name': 'James Brown',\n",
       "  'external_url': 'https://api.spotify.com/v1/artists/7GaxyUddsPok8BuhxN6OUW'},\n",
       " {'artist_id': '0RpddSzUHfncUWNJXKOsjy',\n",
       "  'artist_name': 'Neon Trees',\n",
       "  'external_url': 'https://api.spotify.com/v1/artists/0RpddSzUHfncUWNJXKOsjy'},\n",
       " {'artist_id': '1GxkXlMwML1oSg5eLPiAz3',\n",
       "  'artist_name': 'Michael Bublé',\n",
       "  'external_url': 'https://api.spotify.com/v1/artists/1GxkXlMwML1oSg5eLPiAz3'},\n",
       " {'artist_id': '0rvjqX7ttXeg3mTy8Xscbt',\n",
       "  'artist_name': 'Journey',\n",
       "  'external_url': 'https://api.spotify.com/v1/artists/0rvjqX7ttXeg3mTy8Xscbt'},\n",
       " {'artist_id': '07QEuhtrNmmZ0zEcqE9SF6',\n",
       "  'artist_name': 'Owl City',\n",
       "  'external_url': 'https://api.spotify.com/v1/artists/07QEuhtrNmmZ0zEcqE9SF6'},\n",
       " {'artist_id': '4AapPt7H6bGH4i7chTulpI',\n",
       "  'artist_name': 'Ben Rector',\n",
       "  'external_url': 'https://api.spotify.com/v1/artists/4AapPt7H6bGH4i7chTulpI'},\n",
       " {'artist_id': '08GQAI4eElDnROBrJRGE0X',\n",
       "  'artist_name': 'Fleetwood Mac',\n",
       "  'external_url': 'https://api.spotify.com/v1/artists/08GQAI4eElDnROBrJRGE0X'},\n",
       " {'artist_id': '50JJSqHUf2RQ9xsHs0KMHg',\n",
       "  'artist_name': 'Jon Bellion',\n",
       "  'external_url': 'https://api.spotify.com/v1/artists/50JJSqHUf2RQ9xsHs0KMHg'},\n",
       " {'artist_id': '55Pp4Ns5VfTSFsBraW7MQy',\n",
       "  'artist_name': 'Skee-Lo',\n",
       "  'external_url': 'https://api.spotify.com/v1/artists/55Pp4Ns5VfTSFsBraW7MQy'},\n",
       " {'artist_id': '6d4jrmreCmsenscuieJERc',\n",
       "  'artist_name': 'The Band CAMINO',\n",
       "  'external_url': 'https://api.spotify.com/v1/artists/6d4jrmreCmsenscuieJERc'},\n",
       " {'artist_id': '2aaLAng2L2aWD2FClzwiep',\n",
       "  'artist_name': 'Dream Theater',\n",
       "  'external_url': 'https://api.spotify.com/v1/artists/2aaLAng2L2aWD2FClzwiep'},\n",
       " {'artist_id': '0C0XlULifJtAgn6ZNCW2eu',\n",
       "  'artist_name': 'The Killers',\n",
       "  'external_url': 'https://api.spotify.com/v1/artists/0C0XlULifJtAgn6ZNCW2eu'},\n",
       " {'artist_id': '4VMYDCV2IEDYJArk749S6m',\n",
       "  'artist_name': 'Daddy Yankee',\n",
       "  'external_url': 'https://api.spotify.com/v1/artists/4VMYDCV2IEDYJArk749S6m'},\n",
       " {'artist_id': '33ScadVnbm2X8kkUqOkC6Z',\n",
       "  'artist_name': 'Don Omar',\n",
       "  'external_url': 'https://api.spotify.com/v1/artists/33ScadVnbm2X8kkUqOkC6Z'},\n",
       " {'artist_id': '0yNSzH5nZmHzeE2xn6Xshb',\n",
       "  'artist_name': 'Calle 13',\n",
       "  'external_url': 'https://api.spotify.com/v1/artists/0yNSzH5nZmHzeE2xn6Xshb'},\n",
       " {'artist_id': '4VMYDCV2IEDYJArk749S6m',\n",
       "  'artist_name': 'Daddy Yankee',\n",
       "  'external_url': 'https://api.spotify.com/v1/artists/4VMYDCV2IEDYJArk749S6m'},\n",
       " {'artist_id': '3EAHF3jdnHHdko5DBrhRUP',\n",
       "  'artist_name': 'John Powell',\n",
       "  'external_url': 'https://api.spotify.com/v1/artists/3EAHF3jdnHHdko5DBrhRUP'},\n",
       " {'artist_id': '2RQXRUsr4IW1f3mKyKsy4B',\n",
       "  'artist_name': 'Noah Kahan',\n",
       "  'external_url': 'https://api.spotify.com/v1/artists/2RQXRUsr4IW1f3mKyKsy4B'},\n",
       " {'artist_id': '246dkjvS1zLTtiykXe5h60',\n",
       "  'artist_name': 'Post Malone',\n",
       "  'external_url': 'https://api.spotify.com/v1/artists/246dkjvS1zLTtiykXe5h60'},\n",
       " {'artist_id': '2RQXRUsr4IW1f3mKyKsy4B',\n",
       "  'artist_name': 'Noah Kahan',\n",
       "  'external_url': 'https://api.spotify.com/v1/artists/2RQXRUsr4IW1f3mKyKsy4B'},\n",
       " {'artist_id': '2FXC3k01G6Gw61bmprjgqS',\n",
       "  'artist_name': 'Hozier',\n",
       "  'external_url': 'https://api.spotify.com/v1/artists/2FXC3k01G6Gw61bmprjgqS'},\n",
       " {'artist_id': '20JZFwl6HVl6yg8a4H3ZqK',\n",
       "  'artist_name': 'Panic! At The Disco',\n",
       "  'external_url': 'https://api.spotify.com/v1/artists/20JZFwl6HVl6yg8a4H3ZqK'},\n",
       " {'artist_id': '5MouCg6ta7zAxsfMEbc1uh',\n",
       "  'artist_name': 'OMI',\n",
       "  'external_url': 'https://api.spotify.com/v1/artists/5MouCg6ta7zAxsfMEbc1uh'},\n",
       " {'artist_id': '4bL2B6hmLlMWnUEZnorEtG',\n",
       "  'artist_name': 'Felix Jaehn',\n",
       "  'external_url': 'https://api.spotify.com/v1/artists/4bL2B6hmLlMWnUEZnorEtG'},\n",
       " {'artist_id': '2qxJFvFYMEDqd7ui6kSAcq',\n",
       "  'artist_name': 'Zedd',\n",
       "  'external_url': 'https://api.spotify.com/v1/artists/2qxJFvFYMEDqd7ui6kSAcq'},\n",
       " {'artist_id': '6WY7D3jk8zTrHtmkqqo5GI',\n",
       "  'artist_name': 'Maren Morris',\n",
       "  'external_url': 'https://api.spotify.com/v1/artists/6WY7D3jk8zTrHtmkqqo5GI'},\n",
       " {'artist_id': '4lDBihdpMlOalxy1jkUbPl',\n",
       "  'artist_name': 'Grey',\n",
       "  'external_url': 'https://api.spotify.com/v1/artists/4lDBihdpMlOalxy1jkUbPl'},\n",
       " {'artist_id': '1kDGbuxWknIKx4FlgWxiSp',\n",
       "  'artist_name': 'Nothing But Thieves',\n",
       "  'external_url': 'https://api.spotify.com/v1/artists/1kDGbuxWknIKx4FlgWxiSp'},\n",
       " {'artist_id': '1E4r4z7ivGUcSAnCbINJ9v',\n",
       "  'artist_name': 'Drowning Pool',\n",
       "  'external_url': 'https://api.spotify.com/v1/artists/1E4r4z7ivGUcSAnCbINJ9v'},\n",
       " {'artist_id': '1Xyo4u8uXC1ZmMpatF05PJ',\n",
       "  'artist_name': 'The Weeknd',\n",
       "  'external_url': 'https://api.spotify.com/v1/artists/1Xyo4u8uXC1ZmMpatF05PJ'},\n",
       " {'artist_id': '6FBDaR13swtiWwGhX1WQsP',\n",
       "  'artist_name': 'blink-182',\n",
       "  'external_url': 'https://api.spotify.com/v1/artists/6FBDaR13swtiWwGhX1WQsP'},\n",
       " {'artist_id': '3GzWhE2xadJiW8MqRKIVSK',\n",
       "  'artist_name': 'Underoath',\n",
       "  'external_url': 'https://api.spotify.com/v1/artists/3GzWhE2xadJiW8MqRKIVSK'},\n",
       " {'artist_id': '6XyY86QOPPrYVGvF9ch6wz',\n",
       "  'artist_name': 'Linkin Park',\n",
       "  'external_url': 'https://api.spotify.com/v1/artists/6XyY86QOPPrYVGvF9ch6wz'},\n",
       " {'artist_id': '3Ri4H12KFyu98LMjSoij5V',\n",
       "  'artist_name': 'Bad Omens',\n",
       "  'external_url': 'https://api.spotify.com/v1/artists/3Ri4H12KFyu98LMjSoij5V'},\n",
       " {'artist_id': '4iJLPqClelZOBCBifm8Fzv',\n",
       "  'artist_name': 'Pierce The Veil',\n",
       "  'external_url': 'https://api.spotify.com/v1/artists/4iJLPqClelZOBCBifm8Fzv'},\n",
       " {'artist_id': '7crPfGd2k81ekOoSqQKWWz',\n",
       "  'artist_name': 'Stevie Nicks',\n",
       "  'external_url': 'https://api.spotify.com/v1/artists/7crPfGd2k81ekOoSqQKWWz'},\n",
       " {'artist_id': '08GQAI4eElDnROBrJRGE0X',\n",
       "  'artist_name': 'Fleetwood Mac',\n",
       "  'external_url': 'https://api.spotify.com/v1/artists/08GQAI4eElDnROBrJRGE0X'},\n",
       " {'artist_id': '55qfDfgj4Qi3JGe6KpqGtC',\n",
       "  'artist_name': 'Blessing Offor',\n",
       "  'external_url': 'https://api.spotify.com/v1/artists/55qfDfgj4Qi3JGe6KpqGtC'},\n",
       " {'artist_id': '00YTqRClk82aMchQQpYMd5',\n",
       "  'artist_name': 'Our Last Night',\n",
       "  'external_url': 'https://api.spotify.com/v1/artists/00YTqRClk82aMchQQpYMd5'},\n",
       " {'artist_id': '5aYyPjAsLj7UzANzdupwnS',\n",
       "  'artist_name': 'Good Charlotte',\n",
       "  'external_url': 'https://api.spotify.com/v1/artists/5aYyPjAsLj7UzANzdupwnS'},\n",
       " {'artist_id': '6FBDaR13swtiWwGhX1WQsP',\n",
       "  'artist_name': 'blink-182',\n",
       "  'external_url': 'https://api.spotify.com/v1/artists/6FBDaR13swtiWwGhX1WQsP'},\n",
       " {'artist_id': '0RqtSIYZmd4fiBKVFqyIqD',\n",
       "  'artist_name': 'Thirty Seconds To Mars',\n",
       "  'external_url': 'https://api.spotify.com/v1/artists/0RqtSIYZmd4fiBKVFqyIqD'},\n",
       " {'artist_id': '7iWiAD5LLKyiox2grgfmUT',\n",
       "  'artist_name': 'Bullet For My Valentine',\n",
       "  'external_url': 'https://api.spotify.com/v1/artists/7iWiAD5LLKyiox2grgfmUT'},\n",
       " {'artist_id': '7jy3rLJdDQY21OgRLCZ9sD',\n",
       "  'artist_name': 'Foo Fighters',\n",
       "  'external_url': 'https://api.spotify.com/v1/artists/7jy3rLJdDQY21OgRLCZ9sD'},\n",
       " {'artist_id': '7jy3rLJdDQY21OgRLCZ9sD',\n",
       "  'artist_name': 'Foo Fighters',\n",
       "  'external_url': 'https://api.spotify.com/v1/artists/7jy3rLJdDQY21OgRLCZ9sD'},\n",
       " {'artist_id': '7jy3rLJdDQY21OgRLCZ9sD',\n",
       "  'artist_name': 'Foo Fighters',\n",
       "  'external_url': 'https://api.spotify.com/v1/artists/7jy3rLJdDQY21OgRLCZ9sD'},\n",
       " {'artist_id': '7oPftvlwr6VrsViSDV7fJY',\n",
       "  'artist_name': 'Green Day',\n",
       "  'external_url': 'https://api.spotify.com/v1/artists/7oPftvlwr6VrsViSDV7fJY'},\n",
       " {'artist_id': '1r4hJ1h58CWwUQe3MxPuau',\n",
       "  'artist_name': 'Maluma',\n",
       "  'external_url': 'https://api.spotify.com/v1/artists/1r4hJ1h58CWwUQe3MxPuau'},\n",
       " {'artist_id': '6XFITTl7cFTdopDY3lUdlY',\n",
       "  'artist_name': 'J Alvarez',\n",
       "  'external_url': 'https://api.spotify.com/v1/artists/6XFITTl7cFTdopDY3lUdlY'},\n",
       " {'artist_id': '2zwh4WnVBGZcfnllC7DUxt',\n",
       "  'artist_name': 'Viniloversus',\n",
       "  'external_url': 'https://api.spotify.com/v1/artists/2zwh4WnVBGZcfnllC7DUxt'},\n",
       " {'artist_id': '5gs7iemsrjIJbz0ryFcy79',\n",
       "  'artist_name': 'La Vida Bohème',\n",
       "  'external_url': 'https://api.spotify.com/v1/artists/5gs7iemsrjIJbz0ryFcy79'},\n",
       " {'artist_id': '6cadOIa5DTh6a5mGo5r4bh',\n",
       "  'artist_name': 'Trent Reznor and Atticus Ross',\n",
       "  'external_url': 'https://api.spotify.com/v1/artists/6cadOIa5DTh6a5mGo5r4bh'},\n",
       " {'artist_id': '6emHCSoB4tJxTVXakbrpPz',\n",
       "  'artist_name': 'Karen O',\n",
       "  'external_url': 'https://api.spotify.com/v1/artists/6emHCSoB4tJxTVXakbrpPz'},\n",
       " {'artist_id': '0hRijdwO8UsJMudc3476ma',\n",
       "  'artist_name': 'Trent Reznor',\n",
       "  'external_url': 'https://api.spotify.com/v1/artists/0hRijdwO8UsJMudc3476ma'},\n",
       " {'artist_id': '5HARKwnZLNQBeUGsTHX2AM',\n",
       "  'artist_name': 'Atticus Ross',\n",
       "  'external_url': 'https://api.spotify.com/v1/artists/5HARKwnZLNQBeUGsTHX2AM'},\n",
       " {'artist_id': '1co4F2pPNH8JjTutZkmgSm',\n",
       "  'artist_name': 'Ramones',\n",
       "  'external_url': 'https://api.spotify.com/v1/artists/1co4F2pPNH8JjTutZkmgSm'},\n",
       " {'artist_id': '5ypxebeHEIXjMtJb17uJlI',\n",
       "  'artist_name': 'Jet',\n",
       "  'external_url': 'https://api.spotify.com/v1/artists/5ypxebeHEIXjMtJb17uJlI'},\n",
       " {'artist_id': '0C0XlULifJtAgn6ZNCW2eu',\n",
       "  'artist_name': 'The Killers',\n",
       "  'external_url': 'https://api.spotify.com/v1/artists/0C0XlULifJtAgn6ZNCW2eu'},\n",
       " {'artist_id': '6S0GHTqz5sxK5f9HtLXn9q',\n",
       "  'artist_name': 'Garbage',\n",
       "  'external_url': 'https://api.spotify.com/v1/artists/6S0GHTqz5sxK5f9HtLXn9q'},\n",
       " {'artist_id': '0dlOr0VIysztGWvU1dpjmP',\n",
       "  'artist_name': 'Natalie Imbruglia',\n",
       "  'external_url': 'https://api.spotify.com/v1/artists/0dlOr0VIysztGWvU1dpjmP'},\n",
       " {'artist_id': '12Chz98pHFMPJEknJQMWvI',\n",
       "  'artist_name': 'Muse',\n",
       "  'external_url': 'https://api.spotify.com/v1/artists/12Chz98pHFMPJEknJQMWvI'},\n",
       " {'artist_id': '2OnKRchqP7tT0FzTvWIFI7',\n",
       "  'artist_name': 'Wolfine',\n",
       "  'external_url': 'https://api.spotify.com/v1/artists/2OnKRchqP7tT0FzTvWIFI7'},\n",
       " {'artist_id': '2OHKEe204spO7G7NcbeO2o',\n",
       "  'artist_name': 'Ñejo',\n",
       "  'external_url': 'https://api.spotify.com/v1/artists/2OHKEe204spO7G7NcbeO2o'}]"
      ]
     },
     "execution_count": 50,
     "metadata": {},
     "output_type": "execute_result"
    }
   ],
   "source": [
    "ruthletes_artists_list"
   ]
  },
  {
   "cell_type": "code",
   "execution_count": 51,
   "metadata": {},
   "outputs": [],
   "source": [
    "ruthletes_song_list = []\n",
    "for row in data['items']:\n",
    "    song_id = row['track']['id']\n",
    "    song_name = row['track']['name']\n",
    "    song_duration = row['track']['duration_ms']\n",
    "    song_url = row['track']['external_urls']['spotify']\n",
    "    song_popularity = row['track']['popularity']\n",
    "    song_added = row['added_at']\n",
    "    album_id = row['track']['album']['id']\n",
    "    artist_id = row['track']['album']['artists'][0]['id']\n",
    "    song_element = {'song_id':song_id,'song_name':song_name,'duration_ms':song_duration,'url':song_url,\n",
    "                    'popularity':song_popularity,'song_added':song_added,'album_id':album_id,\n",
    "                    'artist_id':artist_id\n",
    "                   }\n",
    "    ruthletes_song_list.append(song_element)"
   ]
  },
  {
   "cell_type": "code",
   "execution_count": 53,
   "metadata": {},
   "outputs": [
    {
     "data": {
      "text/html": [
       "<div>\n",
       "<style scoped>\n",
       "    .dataframe tbody tr th:only-of-type {\n",
       "        vertical-align: middle;\n",
       "    }\n",
       "\n",
       "    .dataframe tbody tr th {\n",
       "        vertical-align: top;\n",
       "    }\n",
       "\n",
       "    .dataframe thead th {\n",
       "        text-align: right;\n",
       "    }\n",
       "</style>\n",
       "<table border=\"1\" class=\"dataframe\">\n",
       "  <thead>\n",
       "    <tr style=\"text-align: right;\">\n",
       "      <th></th>\n",
       "      <th>album_id</th>\n",
       "      <th>name</th>\n",
       "      <th>release_date</th>\n",
       "      <th>total_tracks</th>\n",
       "      <th>url</th>\n",
       "    </tr>\n",
       "  </thead>\n",
       "  <tbody>\n",
       "    <tr>\n",
       "      <th>0</th>\n",
       "      <td>6deiaArbeoqp1xPEGdEKp1</td>\n",
       "      <td>By the Way (Deluxe Edition)</td>\n",
       "      <td>2002-07-09</td>\n",
       "      <td>18</td>\n",
       "      <td>https://open.spotify.com/album/6deiaArbeoqp1xP...</td>\n",
       "    </tr>\n",
       "    <tr>\n",
       "      <th>1</th>\n",
       "      <td>1rVhockt4RAiZFaK3M3zPB</td>\n",
       "      <td>No Jacket Required (2016 Remaster)</td>\n",
       "      <td>1985-01-25</td>\n",
       "      <td>11</td>\n",
       "      <td>https://open.spotify.com/album/1rVhockt4RAiZFa...</td>\n",
       "    </tr>\n",
       "    <tr>\n",
       "      <th>2</th>\n",
       "      <td>5sY6UIQ32GqwMLAfSNEaXb</td>\n",
       "      <td>Circles</td>\n",
       "      <td>2020-01-17</td>\n",
       "      <td>12</td>\n",
       "      <td>https://open.spotify.com/album/5sY6UIQ32GqwMLA...</td>\n",
       "    </tr>\n",
       "    <tr>\n",
       "      <th>3</th>\n",
       "      <td>5bfpRtBW7RNRdsm3tRyl3R</td>\n",
       "      <td>Dreamland</td>\n",
       "      <td>2020-08-07</td>\n",
       "      <td>16</td>\n",
       "      <td>https://open.spotify.com/album/5bfpRtBW7RNRdsm...</td>\n",
       "    </tr>\n",
       "    <tr>\n",
       "      <th>4</th>\n",
       "      <td>4vSD7Y3Ob3H5nhfgWX8OPf</td>\n",
       "      <td>All I Need (with Mahalia &amp; Ty Dolla $ign)</td>\n",
       "      <td>2020-05-14</td>\n",
       "      <td>1</td>\n",
       "      <td>https://open.spotify.com/album/4vSD7Y3Ob3H5nhf...</td>\n",
       "    </tr>\n",
       "  </tbody>\n",
       "</table>\n",
       "</div>"
      ],
      "text/plain": [
       "                 album_id                                       name  \\\n",
       "0  6deiaArbeoqp1xPEGdEKp1                By the Way (Deluxe Edition)   \n",
       "1  1rVhockt4RAiZFaK3M3zPB         No Jacket Required (2016 Remaster)   \n",
       "2  5sY6UIQ32GqwMLAfSNEaXb                                    Circles   \n",
       "3  5bfpRtBW7RNRdsm3tRyl3R                                  Dreamland   \n",
       "4  4vSD7Y3Ob3H5nhfgWX8OPf  All I Need (with Mahalia & Ty Dolla $ign)   \n",
       "\n",
       "  release_date  total_tracks  \\\n",
       "0   2002-07-09            18   \n",
       "1   1985-01-25            11   \n",
       "2   2020-01-17            12   \n",
       "3   2020-08-07            16   \n",
       "4   2020-05-14             1   \n",
       "\n",
       "                                                 url  \n",
       "0  https://open.spotify.com/album/6deiaArbeoqp1xP...  \n",
       "1  https://open.spotify.com/album/1rVhockt4RAiZFa...  \n",
       "2  https://open.spotify.com/album/5sY6UIQ32GqwMLA...  \n",
       "3  https://open.spotify.com/album/5bfpRtBW7RNRdsm...  \n",
       "4  https://open.spotify.com/album/4vSD7Y3Ob3H5nhf...  "
      ]
     },
     "execution_count": 53,
     "metadata": {},
     "output_type": "execute_result"
    }
   ],
   "source": [
    "ruthletes_album_df = pd.DataFrame(ruthletes_list)\n",
    "ruthletes_album_df.head()"
   ]
  },
  {
   "cell_type": "code",
   "execution_count": 54,
   "metadata": {},
   "outputs": [],
   "source": [
    "ruthletes_album_df = ruthletes_album_df.drop_duplicates(subset='album_id')"
   ]
  },
  {
   "cell_type": "code",
   "execution_count": 56,
   "metadata": {},
   "outputs": [],
   "source": [
    "ruthletes_artists_df = pd.DataFrame(ruthletes_artists_list)\n",
    "ruthletes_artists_df = ruthletes_artists_df.drop_duplicates(subset='artist_id')"
   ]
  },
  {
   "cell_type": "code",
   "execution_count": 57,
   "metadata": {},
   "outputs": [],
   "source": [
    "ruthletes_song_df = pd.DataFrame(ruthletes_song_list)\n",
    "ruthletes_song_df = ruthletes_song_df.drop_duplicates(subset='song_id')"
   ]
  },
  {
   "cell_type": "code",
   "execution_count": 58,
   "metadata": {},
   "outputs": [
    {
     "ename": "ValueError",
     "evalue": "time data \"2000\" doesn't match format \"%Y-%m-%d\", at position 7. You might want to try:\n    - passing `format` if your strings have a consistent format;\n    - passing `format='ISO8601'` if your strings are all ISO8601 but not necessarily in exactly the same format;\n    - passing `format='mixed'`, and the format will be inferred for each element individually. You might want to use `dayfirst` alongside this.",
     "output_type": "error",
     "traceback": [
      "\u001b[0;31m---------------------------------------------------------------------------\u001b[0m",
      "\u001b[0;31mValueError\u001b[0m                                Traceback (most recent call last)",
      "Cell \u001b[0;32mIn[58], line 1\u001b[0m\n\u001b[0;32m----> 1\u001b[0m ruthletes_album_df[\u001b[38;5;124m'\u001b[39m\u001b[38;5;124mrelease_date\u001b[39m\u001b[38;5;124m'\u001b[39m] \u001b[38;5;241m=\u001b[39m pd\u001b[38;5;241m.\u001b[39mto_datetime(ruthletes_album_df[\u001b[38;5;124m'\u001b[39m\u001b[38;5;124mrelease_date\u001b[39m\u001b[38;5;124m'\u001b[39m])\n\u001b[1;32m      2\u001b[0m ruthletes_song_df[\u001b[38;5;124m'\u001b[39m\u001b[38;5;124msong_added\u001b[39m\u001b[38;5;124m'\u001b[39m] \u001b[38;5;241m=\u001b[39m pd\u001b[38;5;241m.\u001b[39mto_datetime(ruthletes_song_df[\u001b[38;5;124m'\u001b[39m\u001b[38;5;124msong_added\u001b[39m\u001b[38;5;124m'\u001b[39m])\n",
      "File \u001b[0;32m/Applications/anaconda3/lib/python3.12/site-packages/pandas/core/tools/datetimes.py:1067\u001b[0m, in \u001b[0;36mto_datetime\u001b[0;34m(arg, errors, dayfirst, yearfirst, utc, format, exact, unit, infer_datetime_format, origin, cache)\u001b[0m\n\u001b[1;32m   1065\u001b[0m         result \u001b[38;5;241m=\u001b[39m arg\u001b[38;5;241m.\u001b[39mmap(cache_array)\n\u001b[1;32m   1066\u001b[0m     \u001b[38;5;28;01melse\u001b[39;00m:\n\u001b[0;32m-> 1067\u001b[0m         values \u001b[38;5;241m=\u001b[39m convert_listlike(arg\u001b[38;5;241m.\u001b[39m_values, \u001b[38;5;28mformat\u001b[39m)\n\u001b[1;32m   1068\u001b[0m         result \u001b[38;5;241m=\u001b[39m arg\u001b[38;5;241m.\u001b[39m_constructor(values, index\u001b[38;5;241m=\u001b[39marg\u001b[38;5;241m.\u001b[39mindex, name\u001b[38;5;241m=\u001b[39marg\u001b[38;5;241m.\u001b[39mname)\n\u001b[1;32m   1069\u001b[0m \u001b[38;5;28;01melif\u001b[39;00m \u001b[38;5;28misinstance\u001b[39m(arg, (ABCDataFrame, abc\u001b[38;5;241m.\u001b[39mMutableMapping)):\n",
      "File \u001b[0;32m/Applications/anaconda3/lib/python3.12/site-packages/pandas/core/tools/datetimes.py:433\u001b[0m, in \u001b[0;36m_convert_listlike_datetimes\u001b[0;34m(arg, format, name, utc, unit, errors, dayfirst, yearfirst, exact)\u001b[0m\n\u001b[1;32m    431\u001b[0m \u001b[38;5;66;03m# `format` could be inferred, or user didn't ask for mixed-format parsing.\u001b[39;00m\n\u001b[1;32m    432\u001b[0m \u001b[38;5;28;01mif\u001b[39;00m \u001b[38;5;28mformat\u001b[39m \u001b[38;5;129;01mis\u001b[39;00m \u001b[38;5;129;01mnot\u001b[39;00m \u001b[38;5;28;01mNone\u001b[39;00m \u001b[38;5;129;01mand\u001b[39;00m \u001b[38;5;28mformat\u001b[39m \u001b[38;5;241m!=\u001b[39m \u001b[38;5;124m\"\u001b[39m\u001b[38;5;124mmixed\u001b[39m\u001b[38;5;124m\"\u001b[39m:\n\u001b[0;32m--> 433\u001b[0m     \u001b[38;5;28;01mreturn\u001b[39;00m _array_strptime_with_fallback(arg, name, utc, \u001b[38;5;28mformat\u001b[39m, exact, errors)\n\u001b[1;32m    435\u001b[0m result, tz_parsed \u001b[38;5;241m=\u001b[39m objects_to_datetime64(\n\u001b[1;32m    436\u001b[0m     arg,\n\u001b[1;32m    437\u001b[0m     dayfirst\u001b[38;5;241m=\u001b[39mdayfirst,\n\u001b[0;32m   (...)\u001b[0m\n\u001b[1;32m    441\u001b[0m     allow_object\u001b[38;5;241m=\u001b[39m\u001b[38;5;28;01mTrue\u001b[39;00m,\n\u001b[1;32m    442\u001b[0m )\n\u001b[1;32m    444\u001b[0m \u001b[38;5;28;01mif\u001b[39;00m tz_parsed \u001b[38;5;129;01mis\u001b[39;00m \u001b[38;5;129;01mnot\u001b[39;00m \u001b[38;5;28;01mNone\u001b[39;00m:\n\u001b[1;32m    445\u001b[0m     \u001b[38;5;66;03m# We can take a shortcut since the datetime64 numpy array\u001b[39;00m\n\u001b[1;32m    446\u001b[0m     \u001b[38;5;66;03m# is in UTC\u001b[39;00m\n",
      "File \u001b[0;32m/Applications/anaconda3/lib/python3.12/site-packages/pandas/core/tools/datetimes.py:467\u001b[0m, in \u001b[0;36m_array_strptime_with_fallback\u001b[0;34m(arg, name, utc, fmt, exact, errors)\u001b[0m\n\u001b[1;32m    456\u001b[0m \u001b[38;5;28;01mdef\u001b[39;00m \u001b[38;5;21m_array_strptime_with_fallback\u001b[39m(\n\u001b[1;32m    457\u001b[0m     arg,\n\u001b[1;32m    458\u001b[0m     name,\n\u001b[0;32m   (...)\u001b[0m\n\u001b[1;32m    462\u001b[0m     errors: \u001b[38;5;28mstr\u001b[39m,\n\u001b[1;32m    463\u001b[0m ) \u001b[38;5;241m-\u001b[39m\u001b[38;5;241m>\u001b[39m Index:\n\u001b[1;32m    464\u001b[0m \u001b[38;5;250m    \u001b[39m\u001b[38;5;124;03m\"\"\"\u001b[39;00m\n\u001b[1;32m    465\u001b[0m \u001b[38;5;124;03m    Call array_strptime, with fallback behavior depending on 'errors'.\u001b[39;00m\n\u001b[1;32m    466\u001b[0m \u001b[38;5;124;03m    \"\"\"\u001b[39;00m\n\u001b[0;32m--> 467\u001b[0m     result, tz_out \u001b[38;5;241m=\u001b[39m array_strptime(arg, fmt, exact\u001b[38;5;241m=\u001b[39mexact, errors\u001b[38;5;241m=\u001b[39merrors, utc\u001b[38;5;241m=\u001b[39mutc)\n\u001b[1;32m    468\u001b[0m     \u001b[38;5;28;01mif\u001b[39;00m tz_out \u001b[38;5;129;01mis\u001b[39;00m \u001b[38;5;129;01mnot\u001b[39;00m \u001b[38;5;28;01mNone\u001b[39;00m:\n\u001b[1;32m    469\u001b[0m         unit \u001b[38;5;241m=\u001b[39m np\u001b[38;5;241m.\u001b[39mdatetime_data(result\u001b[38;5;241m.\u001b[39mdtype)[\u001b[38;5;241m0\u001b[39m]\n",
      "File \u001b[0;32mstrptime.pyx:501\u001b[0m, in \u001b[0;36mpandas._libs.tslibs.strptime.array_strptime\u001b[0;34m()\u001b[0m\n",
      "File \u001b[0;32mstrptime.pyx:451\u001b[0m, in \u001b[0;36mpandas._libs.tslibs.strptime.array_strptime\u001b[0;34m()\u001b[0m\n",
      "File \u001b[0;32mstrptime.pyx:583\u001b[0m, in \u001b[0;36mpandas._libs.tslibs.strptime._parse_with_format\u001b[0;34m()\u001b[0m\n",
      "\u001b[0;31mValueError\u001b[0m: time data \"2000\" doesn't match format \"%Y-%m-%d\", at position 7. You might want to try:\n    - passing `format` if your strings have a consistent format;\n    - passing `format='ISO8601'` if your strings are all ISO8601 but not necessarily in exactly the same format;\n    - passing `format='mixed'`, and the format will be inferred for each element individually. You might want to use `dayfirst` alongside this."
     ]
    }
   ],
   "source": [
    "ruthletes_album_df['release_date'] = pd.to_datetime(ruthletes_album_df['release_date'], errors='ignore')\n",
    "ruthletes_song_df['song_added'] = pd.to_datetime(ruthletes_song_df['song_added'])"
   ]
  },
  {
   "cell_type": "code",
   "execution_count": 59,
   "metadata": {},
   "outputs": [
    {
     "name": "stdout",
     "output_type": "stream",
     "text": [
      "<class 'pandas.core.frame.DataFrame'>\n",
      "Index: 76 entries, 0 to 76\n",
      "Data columns (total 5 columns):\n",
      " #   Column        Non-Null Count  Dtype \n",
      "---  ------        --------------  ----- \n",
      " 0   album_id      76 non-null     object\n",
      " 1   name          76 non-null     object\n",
      " 2   release_date  76 non-null     object\n",
      " 3   total_tracks  76 non-null     int64 \n",
      " 4   url           76 non-null     object\n",
      "dtypes: int64(1), object(4)\n",
      "memory usage: 3.6+ KB\n"
     ]
    }
   ],
   "source": [
    "ruthletes_album_df.info()"
   ]
  },
  {
   "cell_type": "code",
   "execution_count": 60,
   "metadata": {},
   "outputs": [
    {
     "data": {
      "text/plain": [
       "release_date\n",
       "2003-01-01    4\n",
       "2007-01-01    2\n",
       "2018-06-22    2\n",
       "2002-07-09    1\n",
       "2007-05-14    1\n",
       "             ..\n",
       "2002-01-22    1\n",
       "2004          1\n",
       "2004-07-13    1\n",
       "2005          1\n",
       "2012-09-06    1\n",
       "Name: count, Length: 71, dtype: int64"
      ]
     },
     "execution_count": 60,
     "metadata": {},
     "output_type": "execute_result"
    }
   ],
   "source": [
    "ruthletes_album_df['release_date'].value_counts()"
   ]
  },
  {
   "cell_type": "code",
   "execution_count": 61,
   "metadata": {},
   "outputs": [],
   "source": [
    "# Convert mixed values to a consistent datetime format\n",
    "def handle_date(value):\n",
    "    try:\n",
    "        # Use the function as is if it can be converted to a date\n",
    "        return pd.to_datetime(value)\n",
    "    except ValueError:\n",
    "        # If that fails, we give it a default value of first of that year!\n",
    "        return pd.to_datetime(value + '-01-01')\n",
    "\n",
    "ruthletes_album_df['release_date'] = ruthletes_album_df['release_date'].apply(handle_date)"
   ]
  },
  {
   "cell_type": "code",
   "execution_count": 62,
   "metadata": {},
   "outputs": [],
   "source": [
    "ruthletes_song_df['song_added'] = ruthletes_song_df['song_added'].apply(handle_date)"
   ]
  },
  {
   "cell_type": "code",
   "execution_count": 63,
   "metadata": {},
   "outputs": [
    {
     "name": "stdout",
     "output_type": "stream",
     "text": [
      "<class 'pandas.core.frame.DataFrame'>\n",
      "Index: 76 entries, 0 to 76\n",
      "Data columns (total 5 columns):\n",
      " #   Column        Non-Null Count  Dtype         \n",
      "---  ------        --------------  -----         \n",
      " 0   album_id      76 non-null     object        \n",
      " 1   name          76 non-null     object        \n",
      " 2   release_date  76 non-null     datetime64[ns]\n",
      " 3   total_tracks  76 non-null     int64         \n",
      " 4   url           76 non-null     object        \n",
      "dtypes: datetime64[ns](1), int64(1), object(3)\n",
      "memory usage: 3.6+ KB\n"
     ]
    }
   ],
   "source": [
    "ruthletes_album_df.info()"
   ]
  },
  {
   "cell_type": "code",
   "execution_count": 64,
   "metadata": {},
   "outputs": [
    {
     "name": "stdout",
     "output_type": "stream",
     "text": [
      "<class 'pandas.core.frame.DataFrame'>\n",
      "RangeIndex: 77 entries, 0 to 76\n",
      "Data columns (total 8 columns):\n",
      " #   Column       Non-Null Count  Dtype              \n",
      "---  ------       --------------  -----              \n",
      " 0   song_id      77 non-null     object             \n",
      " 1   song_name    77 non-null     object             \n",
      " 2   duration_ms  77 non-null     int64              \n",
      " 3   url          77 non-null     object             \n",
      " 4   popularity   77 non-null     int64              \n",
      " 5   song_added   77 non-null     datetime64[ns, UTC]\n",
      " 6   album_id     77 non-null     object             \n",
      " 7   artist_id    77 non-null     object             \n",
      "dtypes: datetime64[ns, UTC](1), int64(2), object(5)\n",
      "memory usage: 4.9+ KB\n"
     ]
    }
   ],
   "source": [
    "ruthletes_song_df.info()"
   ]
  },
  {
   "cell_type": "code",
   "execution_count": 65,
   "metadata": {},
   "outputs": [
    {
     "data": {
      "text/plain": [
       "release_date\n",
       "2003-01-01    5\n",
       "2005-01-01    2\n",
       "2018-06-22    2\n",
       "2004-01-01    2\n",
       "2007-01-01    2\n",
       "             ..\n",
       "1995-09-02    1\n",
       "2019-08-23    1\n",
       "2002-01-22    1\n",
       "2004-07-13    1\n",
       "2012-09-06    1\n",
       "Name: count, Length: 68, dtype: int64"
      ]
     },
     "execution_count": 65,
     "metadata": {},
     "output_type": "execute_result"
    }
   ],
   "source": [
    "ruthletes_album_df['release_date'].value_counts()"
   ]
  },
  {
   "cell_type": "code",
   "execution_count": null,
   "metadata": {},
   "outputs": [],
   "source": []
  }
 ],
 "metadata": {
  "kernelspec": {
   "display_name": "base",
   "language": "python",
   "name": "python3"
  },
  "language_info": {
   "codemirror_mode": {
    "name": "ipython",
    "version": 3
   },
   "file_extension": ".py",
   "mimetype": "text/x-python",
   "name": "python",
   "nbconvert_exporter": "python",
   "pygments_lexer": "ipython3",
   "version": "3.12.4"
  }
 },
 "nbformat": 4,
 "nbformat_minor": 2
}
